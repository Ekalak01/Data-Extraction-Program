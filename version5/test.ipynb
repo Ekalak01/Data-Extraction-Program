{
 "cells": [
  {
   "cell_type": "code",
   "execution_count": 38,
   "metadata": {},
   "outputs": [
    {
     "name": "stdout",
     "output_type": "stream",
     "text": [
      "  Index Keyword\n",
      "0     a       b\n"
     ]
    }
   ],
   "source": [
    "import pandas as pd \n",
    "df = pd.DataFrame(columns=['Index','Keyword'])\n",
    "s1 = pd.Series(['a', 'b'], index=df.columns)\n",
    "s2 = pd.Series(['c', 'd'])\n",
    "df1 = df.append(s1, ignore_index=True)\n",
    "df2 = df.append(s2, ignore_index=True)\n",
    "\n",
    "df = pd.concat([df2, df1],ignore_index=True)\n",
    "print(df1)"
   ]
  },
  {
   "cell_type": "code",
   "execution_count": 2,
   "metadata": {},
   "outputs": [
    {
     "name": "stdout",
     "output_type": "stream",
     "text": [
      "0                                          ['#ACMilan']\n",
      "1                                          ['#ACMilan']\n",
      "2                                ['#ACMilan', '#milan']\n",
      "3                               ['#ACMilan', '#SerieA']\n",
      "4        ['#Origi', '#ACMilan', '#Milan', '#transfers']\n",
      "5     ['#ACMilan', '#Pioli', '#Tomori', '#Kalulu', '...\n",
      "6     ['#TheGoalpostNews', '#LFC', '#Milan', '#Origi...\n",
      "7     ['#book', '#DigitalMarketing', '#PhilipKotler'...\n",
      "8         ['#ManCity', '#ACMilan', '#ManCity', '#MCFC']\n",
      "9     ['#Tuttosport', '#BalloToure', '#ACMilan', '#P...\n",
      "10    ['#ACMilan', '#PSG', '#Inter', '#Tottenham', '...\n",
      "11    ['#Milan', '#Acmilan', '#Seriea', '#Wheareacmi...\n",
      "12                         ['#ACMilan', '#SempreMilan']\n",
      "13                  ['#DiMarzio', '#ACMilan', '#Origi']\n",
      "14                                         ['#ACMilan']\n",
      "15                         ['#ACMilan', '#SempreMilan']\n",
      "16                                         ['#ACMilan']\n",
      "17    ['#ACMilan', '#Fichajes', '#Transfers', '#Merc...\n",
      "18    ['#Milan', '#Acmilan', '#Seriea', '#Wheareacmi...\n",
      "19                  ['#DiMarzio', '#ACMilan', '#Origi']\n",
      "20                                         ['#ACMilan']\n",
      "21    ['#Acmilan', '#Milan', '#Seriea', '#Wheareacmi...\n",
      "22    ['#Calciomercato', '#Milan', '#DiMarzio', '#Or...\n",
      "Name: Hashtag, dtype: object\n"
     ]
    },
    {
     "data": {
      "text/plain": [
       "{0: \"['#ACMilan']\",\n",
       " 1: \"['#ACMilan']\",\n",
       " 2: \"['#ACMilan', '#milan']\",\n",
       " 3: \"['#ACMilan', '#SerieA']\",\n",
       " 4: \"['#Origi', '#ACMilan', '#Milan', '#transfers']\",\n",
       " 5: \"['#ACMilan', '#Pioli', '#Tomori', '#Kalulu', '#Bennacer', '#SempreMilan', '#ForzaMilan', '#CagliariMilan', '#SerieATIM', '#SerieA']\",\n",
       " 6: \"['#TheGoalpostNews', '#LFC', '#Milan', '#Origi', '#ACMilan']\",\n",
       " 7: \"['#book', '#DigitalMarketing', '#PhilipKotler', '#marketing', '#Danone', '#Nestle', '#ACMilan', '#WMS', '#AMA', '#CIM', '#Versace', '#purpose', '#VCP', '#canvas', '#books', '#amazon', '#anewpathtodigital', '#tiktok']\",\n",
       " 8: \"['#ManCity', '#ACMilan', '#ManCity', '#MCFC']\",\n",
       " 9: \"['#Tuttosport', '#BalloToure', '#ACMilan', '#Parisi', '#TheoHernandez']\",\n",
       " 10: \"['#ACMilan', '#PSG', '#Inter', '#Tottenham', '#Atletico', '#Dybala']\",\n",
       " 11: \"['#Milan', '#Acmilan', '#Seriea', '#Wheareacmilan']\",\n",
       " 12: \"['#ACMilan', '#SempreMilan']\",\n",
       " 13: \"['#DiMarzio', '#ACMilan', '#Origi']\",\n",
       " 14: \"['#ACMilan']\",\n",
       " 15: \"['#ACMilan', '#SempreMilan']\",\n",
       " 16: \"['#ACMilan']\",\n",
       " 17: \"['#ACMilan', '#Fichajes', '#Transfers', '#Mercato']\",\n",
       " 18: \"['#Milan', '#Acmilan', '#Seriea', '#Wheareacmilan']\",\n",
       " 19: \"['#DiMarzio', '#ACMilan', '#Origi']\",\n",
       " 20: \"['#ACMilan']\",\n",
       " 21: \"['#Acmilan', '#Milan', '#Seriea', '#Wheareacmilan']\",\n",
       " 22: \"['#Calciomercato', '#Milan', '#DiMarzio', '#Origi', '#ACMilan', '#SempreMilan']\"}"
      ]
     },
     "execution_count": 2,
     "metadata": {},
     "output_type": "execute_result"
    }
   ],
   "source": [
    "import pandas as pd \n",
    "def load_data(): \n",
    "    df_all = pd.read_csv('#ACMilan-2022-03-22.csv')\n",
    "    print(df_all.loc[:,\"Hashtag\"])\n",
    "    return df_all.loc[:,\"Hashtag\"]\n",
    "df = load_data()\n",
    "df.to_dict()"
   ]
  },
  {
   "cell_type": "code",
   "execution_count": 37,
   "metadata": {},
   "outputs": [
    {
     "name": "stdout",
     "output_type": "stream",
     "text": [
      "                Hastag  Count\n",
      "0             #ACMilan     20\n",
      "1               #milan      1\n",
      "2              #SerieA      2\n",
      "3               #Origi      5\n",
      "4               #Milan      6\n",
      "5           #transfers      1\n",
      "6               #Pioli      1\n",
      "7              #Tomori      1\n",
      "8              #Kalulu      1\n",
      "9            #Bennacer      1\n",
      "10        #SempreMilan      4\n",
      "11         #ForzaMilan      1\n",
      "12      #CagliariMilan      1\n",
      "13          #SerieATIM      1\n",
      "14    #TheGoalpostNews      1\n",
      "15                #LFC      1\n",
      "16               #book      1\n",
      "17   #DigitalMarketing      1\n",
      "18       #PhilipKotler      1\n",
      "19          #marketing      1\n",
      "20             #Danone      1\n",
      "21             #Nestle      1\n",
      "22                #WMS      1\n",
      "23                #AMA      1\n",
      "24                #CIM      1\n",
      "25            #Versace      1\n",
      "26            #purpose      1\n",
      "27                #VCP      1\n",
      "28             #canvas      1\n",
      "29              #books      1\n",
      "30             #amazon      1\n",
      "31  #anewpathtodigital      1\n",
      "32             #tiktok      1\n",
      "33            #ManCity      2\n",
      "34               #MCFC      1\n",
      "35         #Tuttosport      1\n",
      "36         #BalloToure      1\n",
      "37             #Parisi      1\n",
      "38      #TheoHernandez      1\n",
      "39                #PSG      1\n",
      "40              #Inter      1\n",
      "41          #Tottenham      1\n",
      "42           #Atletico      1\n",
      "43             #Dybala      1\n",
      "44            #Acmilan      3\n",
      "45             #Seriea      3\n",
      "46      #Wheareacmilan      3\n",
      "47           #DiMarzio      3\n",
      "48           #Fichajes      1\n",
      "49          #Transfers      1\n",
      "50            #Mercato      1\n",
      "51      #Calciomercato      1\n"
     ]
    }
   ],
   "source": [
    "import pandas as pd\n",
    "df_all = pd.read_csv('#ACMilan-2022-03-22.csv')\n",
    "dic={}\n",
    "for i in df_all['Hashtag']:\n",
    "    i=i.replace('[','').replace(']','').replace(\"'\",\"\").replace(' ','').split(',')\n",
    "    for j in i:\n",
    "        if j not in dic:\n",
    "            dic[j] = 1\n",
    "        else:\n",
    "            dic[j] += 1\n",
    "#print(dic)\n",
    "\n",
    "df = pd.DataFrame(dic.items(),columns=['Hastag','Count'])\n",
    "print(df)"
   ]
  },
  {
   "cell_type": "code",
   "execution_count": null,
   "metadata": {},
   "outputs": [],
   "source": []
  }
 ],
 "metadata": {
  "interpreter": {
   "hash": "b3ba2566441a7c06988d0923437866b63cedc61552a5af99d1f4fb67d367b25f"
  },
  "kernelspec": {
   "display_name": "Python 3.8.8 ('base')",
   "language": "python",
   "name": "python3"
  },
  "language_info": {
   "codemirror_mode": {
    "name": "ipython",
    "version": 3
   },
   "file_extension": ".py",
   "mimetype": "text/x-python",
   "name": "python",
   "nbconvert_exporter": "python",
   "pygments_lexer": "ipython3",
   "version": "3.8.8"
  },
  "orig_nbformat": 4
 },
 "nbformat": 4,
 "nbformat_minor": 2
}
