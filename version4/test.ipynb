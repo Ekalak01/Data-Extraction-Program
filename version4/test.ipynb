{
 "cells": [
  {
   "cell_type": "code",
   "execution_count": 21,
   "metadata": {},
   "outputs": [
    {
     "name": "stdout",
     "output_type": "stream",
     "text": [
      "  Index Keyword    0    1\n",
      "0   NaN     NaN    c    d\n",
      "1     a       b  NaN  NaN\n"
     ]
    }
   ],
   "source": [
    "import pandas as pd \n",
    "df = pd.DataFrame(columns=['Index','Keyword'])\n",
    "s1 = pd.Series(['a', 'b'], index=df.columns)\n",
    "s2 = pd.Series(['c', 'd'])\n",
    "df1 = df.append(s1, ignore_index=True)\n",
    "df2 = df.append(s2, ignore_index=True)\n",
    "\n",
    "df = pd.concat([df2, df1],ignore_index=True)\n",
    "print(df)"
   ]
  }
 ],
 "metadata": {
  "interpreter": {
   "hash": "b3ba2566441a7c06988d0923437866b63cedc61552a5af99d1f4fb67d367b25f"
  },
  "kernelspec": {
   "display_name": "Python 3.8.8 ('base')",
   "language": "python",
   "name": "python3"
  },
  "language_info": {
   "codemirror_mode": {
    "name": "ipython",
    "version": 3
   },
   "file_extension": ".py",
   "mimetype": "text/x-python",
   "name": "python",
   "nbconvert_exporter": "python",
   "pygments_lexer": "ipython3",
   "version": "3.8.8"
  },
  "orig_nbformat": 4
 },
 "nbformat": 4,
 "nbformat_minor": 2
}
